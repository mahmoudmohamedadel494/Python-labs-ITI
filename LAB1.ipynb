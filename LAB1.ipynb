{
  "nbformat": 4,
  "nbformat_minor": 0,
  "metadata": {
    "colab": {
      "provenance": []
    },
    "kernelspec": {
      "name": "python3",
      "display_name": "Python 3"
    },
    "language_info": {
      "name": "python"
    }
  },
  "cells": [
    {
      "cell_type": "code",
      "source": [
        "# 1 -Write a program that counts up the number of vowels [a, e, i, o, u] contained in the string.\n",
        "\n",
        "name = \"mmmaeiou\"\n",
        "name.count('a' ) + name.count('e' ) + name.count('i' ) + name.count('o' )+name.count('u' )"
      ],
      "metadata": {
        "colab": {
          "base_uri": "https://localhost:8080/"
        },
        "id": "FHYo-afaXiLe",
        "outputId": "fde40a01-5be5-4812-efbd-d73697f79cc5"
      },
      "execution_count": 82,
      "outputs": [
        {
          "output_type": "execute_result",
          "data": {
            "text/plain": [
              "5"
            ]
          },
          "metadata": {},
          "execution_count": 82
        }
      ]
    },
    {
      "cell_type": "code",
      "source": [
        "# 2- Fill an array of 5 elements from the user, Sort it in descending \n",
        "#and ascending orders then display the output.\n",
        "\n",
        "arr = []\n",
        "for i in range(5):\n",
        "  num = int(input(\"Enter the value num \" + str(i+1)  + \" : \" ) )\n",
        "  arr.append(num)\n",
        "Array_asc = sorted(arr)\n",
        "Array_desc = sorted(arr , reverse=True)\n",
        "print(Array_asc)\n",
        "print(Array_desc)"
      ],
      "metadata": {
        "colab": {
          "base_uri": "https://localhost:8080/"
        },
        "id": "wAne_us-c-bF",
        "outputId": "869a2a0b-60dd-4bce-c48d-d0e483228fb7"
      },
      "execution_count": 106,
      "outputs": [
        {
          "output_type": "stream",
          "name": "stdout",
          "text": [
            "Enter the value num 1 : 1\n",
            "Enter the value num 2 : 55\n",
            "Enter the value num 3 : 3\n",
            "Enter the value num 4 : 2\n",
            "Enter the value num 5 : 0\n",
            "[0, 1, 2, 3, 55]\n",
            "[55, 3, 2, 1, 0]\n"
          ]
        }
      ]
    },
    {
      "cell_type": "code",
      "source": [
        "# 3- Write a program that prints the number of times the string 'iti' \n",
        "#occurs in anystring.\n",
        "\n",
        "x = input('enter the name ')\n",
        "x.count('iti')"
      ],
      "metadata": {
        "colab": {
          "base_uri": "https://localhost:8080/"
        },
        "id": "YgUVXtCmZKxP",
        "outputId": "57be8b98-fb74-4b96-ba2b-044b10f706ce"
      },
      "execution_count": 80,
      "outputs": [
        {
          "name": "stdout",
          "output_type": "stream",
          "text": [
            "enter the name iti itit iti iti\n"
          ]
        },
        {
          "output_type": "execute_result",
          "data": {
            "text/plain": [
              "4"
            ]
          },
          "metadata": {},
          "execution_count": 80
        }
      ]
    },
    {
      "cell_type": "code",
      "source": [
        "# 4- Write a program that remove all vowels from the input word and generate a brief version of it.\n",
        "\n",
        "\n",
        "vowles = \"aeiouAEIOU\"\n",
        "arr = [] \n",
        "for i in range(3):\n",
        "  value = input(\"enter the value number \" + str(i+1) + \" : \")\n",
        "  word_without_vowels = \"\"\n",
        "  for i in value :\n",
        "    if i not in vowles :\n",
        "      word_without_vowels += char\n",
        "\n",
        "  arr.append(value)\n",
        "arr"
      ],
      "metadata": {
        "colab": {
          "base_uri": "https://localhost:8080/"
        },
        "id": "om7_2nn4lxkG",
        "outputId": "9e90a7bc-6822-4bf2-bdba-e1c107664b9e"
      },
      "execution_count": 126,
      "outputs": [
        {
          "name": "stdout",
          "output_type": "stream",
          "text": [
            "enter the value number 1 : asd\n",
            "enter the value number 2 : asd\n",
            "enter the value number 3 : sd\n"
          ]
        },
        {
          "output_type": "execute_result",
          "data": {
            "text/plain": [
              "['asd', 'asd', 'sd']"
            ]
          },
          "metadata": {},
          "execution_count": 126
        }
      ]
    },
    {
      "cell_type": "code",
      "source": [
        " # 5- Write a program that prints the locations of \"i\" character in any string you added.\n",
        "\n",
        "string = \"mahmouid\"\n",
        "string.find(\"i\")"
      ],
      "metadata": {
        "colab": {
          "base_uri": "https://localhost:8080/"
        },
        "id": "RmdgzOWSrYvS",
        "outputId": "7bc457f7-b804-4241-c191-dffbb5b2c171"
      },
      "execution_count": 127,
      "outputs": [
        {
          "output_type": "execute_result",
          "data": {
            "text/plain": [
              "6"
            ]
          },
          "metadata": {},
          "execution_count": 127
        }
      ]
    },
    {
      "cell_type": "code",
      "source": [
        "# 6 - Write a program that generate a multiplication table from 1 to the number passed\n",
        "\n",
        "x = int(input(\"enter the number plz  \") ) \n",
        "\n",
        "for i in range(1,x+1):\n",
        "  for j in range(13):\n",
        "    result = i * j \n",
        "    print (\" \" , i , \" * \" , j ,\" = \" , result)\n",
        "  print(\"------------------------------------------------\")"
      ],
      "metadata": {
        "colab": {
          "base_uri": "https://localhost:8080/"
        },
        "id": "sJjdUyf6sXuj",
        "outputId": "bcebede8-c1d6-4fea-e399-59ca1ad30bd6"
      },
      "execution_count": 133,
      "outputs": [
        {
          "output_type": "stream",
          "name": "stdout",
          "text": [
            "enter the number plz  3\n",
            "  1  *  0  =  0\n",
            "  1  *  1  =  1\n",
            "  1  *  2  =  2\n",
            "  1  *  3  =  3\n",
            "  1  *  4  =  4\n",
            "  1  *  5  =  5\n",
            "  1  *  6  =  6\n",
            "  1  *  7  =  7\n",
            "  1  *  8  =  8\n",
            "  1  *  9  =  9\n",
            "  1  *  10  =  10\n",
            "  1  *  11  =  11\n",
            "  1  *  12  =  12\n",
            "------------------------------------------------\n",
            "  2  *  0  =  0\n",
            "  2  *  1  =  2\n",
            "  2  *  2  =  4\n",
            "  2  *  3  =  6\n",
            "  2  *  4  =  8\n",
            "  2  *  5  =  10\n",
            "  2  *  6  =  12\n",
            "  2  *  7  =  14\n",
            "  2  *  8  =  16\n",
            "  2  *  9  =  18\n",
            "  2  *  10  =  20\n",
            "  2  *  11  =  22\n",
            "  2  *  12  =  24\n",
            "------------------------------------------------\n",
            "  3  *  0  =  0\n",
            "  3  *  1  =  3\n",
            "  3  *  2  =  6\n",
            "  3  *  3  =  9\n",
            "  3  *  4  =  12\n",
            "  3  *  5  =  15\n",
            "  3  *  6  =  18\n",
            "  3  *  7  =  21\n",
            "  3  *  8  =  24\n",
            "  3  *  9  =  27\n",
            "  3  *  10  =  30\n",
            "  3  *  11  =  33\n",
            "  3  *  12  =  36\n",
            "------------------------------------------------\n"
          ]
        }
      ]
    },
    {
      "cell_type": "code",
      "source": [
        "# 7-  Write a program that build a Mario pyramid like below\n",
        "for i in range (5):\n",
        "  print ((4-i)*\" \" + (i)*\"*\")"
      ],
      "metadata": {
        "colab": {
          "base_uri": "https://localhost:8080/"
        },
        "id": "Yxdf5BOMZbOW",
        "outputId": "3ad953c3-e75d-4232-ca5c-e964c7f5e73d"
      },
      "execution_count": 78,
      "outputs": [
        {
          "output_type": "stream",
          "name": "stdout",
          "text": [
            "    \n",
            "   *\n",
            "  **\n",
            " ***\n",
            "****\n"
          ]
        }
      ]
    },
    {
      "cell_type": "code",
      "source": [
        "# 7 -Write a program that build a Mario pyramid like below\n",
        "for i in range (5):\n",
        "  x = 5\n",
        "  print ((x-i)*\" \"+i*\"*\")\n"
      ],
      "metadata": {
        "colab": {
          "base_uri": "https://localhost:8080/"
        },
        "id": "Q0UltxLranM9",
        "outputId": "82c02979-f50e-4b76-fbd0-7eeb1d60bbae"
      },
      "execution_count": 86,
      "outputs": [
        {
          "output_type": "stream",
          "name": "stdout",
          "text": [
            "     \n",
            "    *\n",
            "   **\n",
            "  ***\n",
            " ****\n"
          ]
        }
      ]
    }
  ]
}